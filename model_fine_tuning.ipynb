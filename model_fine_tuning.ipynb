{
  "nbformat": 4,
  "nbformat_minor": 0,
  "metadata": {
    "colab": {
      "name": "model_fine_tuning.ipynb",
      "provenance": [],
      "collapsed_sections": [],
      "mount_file_id": "1usfKJRikZ1_9fq5BJs5dm0UzJiyuDrYf",
      "authorship_tag": "ABX9TyNCUP9GywsIjt+0W2r6sTqd",
      "include_colab_link": true
    },
    "kernelspec": {
      "name": "python3",
      "display_name": "Python 3"
    },
    "language_info": {
      "name": "python"
    },
    "accelerator": "GPU"
  },
  "cells": [
    {
      "cell_type": "markdown",
      "metadata": {
        "id": "view-in-github",
        "colab_type": "text"
      },
      "source": [
        "<a href=\"https://colab.research.google.com/github/EdoardoMorucci/Plant-Leaves-Search-Engine---MIRCV/blob/main/model_fine_tuning.ipynb\" target=\"_parent\"><img src=\"https://colab.research.google.com/assets/colab-badge.svg\" alt=\"Open In Colab\"/></a>"
      ]
    },
    {
      "cell_type": "markdown",
      "source": [
        "# Introduction\n",
        "This notebook describes the fine-tuning process of Convolutional Neural Network using as Base Network DenseNet"
      ],
      "metadata": {
        "id": "LwmVt8O-Jxhh"
      }
    },
    {
      "cell_type": "markdown",
      "source": [
        "# Local download of the dataset"
      ],
      "metadata": {
        "id": "My0VC1BctmJG"
      }
    },
    {
      "cell_type": "code",
      "source": [
        "! pip install -q kaggle\n",
        "\n",
        "from google.colab import files\n",
        "_ = files.upload()\n",
        "\n",
        "! mkdir -p ~/.kaggle\n",
        "! cp kaggle.json ~/.kaggle/\n",
        "! chmod 600 ~/.kaggle/kaggle.json"
      ],
      "metadata": {
        "colab": {
          "resources": {
            "http://localhost:8080/nbextensions/google.colab/files.js": {
              "data": "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",
              "ok": true,
              "headers": [
                [
                  "content-type",
                  "application/javascript"
                ]
              ],
              "status": 200,
              "status_text": ""
            }
          },
          "base_uri": "https://localhost:8080/",
          "height": 74
        },
        "id": "uhlZsAHwts-j",
        "outputId": "6d8c7de5-9669-439b-dfd3-b15348789885"
      },
      "execution_count": null,
      "outputs": [
        {
          "output_type": "display_data",
          "data": {
            "text/html": [
              "\n",
              "     <input type=\"file\" id=\"files-8030284e-001b-46ea-b9e2-964ea21adc1e\" name=\"files[]\" multiple disabled\n",
              "        style=\"border:none\" />\n",
              "     <output id=\"result-8030284e-001b-46ea-b9e2-964ea21adc1e\">\n",
              "      Upload widget is only available when the cell has been executed in the\n",
              "      current browser session. Please rerun this cell to enable.\n",
              "      </output>\n",
              "      <script src=\"/nbextensions/google.colab/files.js\"></script> "
            ],
            "text/plain": [
              "<IPython.core.display.HTML object>"
            ]
          },
          "metadata": {}
        },
        {
          "output_type": "stream",
          "name": "stdout",
          "text": [
            "Saving kaggle.json to kaggle.json\n"
          ]
        }
      ]
    },
    {
      "cell_type": "code",
      "source": [
        "! kaggle datasets download -d davidedemarco/healthy-unhealthy-plants-dataset-segmented --unzip"
      ],
      "metadata": {
        "colab": {
          "base_uri": "https://localhost:8080/"
        },
        "id": "vD7UcrOguFHB",
        "outputId": "659fa398-9ff2-46a7-d75b-dca662546e5e"
      },
      "execution_count": null,
      "outputs": [
        {
          "output_type": "stream",
          "name": "stdout",
          "text": [
            "Downloading healthy-unhealthy-plants-dataset-segmented.zip to /content\n",
            " 99% 633M/642M [00:13<00:00, 63.2MB/s]\n",
            "100% 642M/642M [00:13<00:00, 50.3MB/s]\n"
          ]
        }
      ]
    },
    {
      "cell_type": "markdown",
      "source": [
        "# Connection to Google Drive"
      ],
      "metadata": {
        "id": "fGr5XdhuiReN"
      }
    },
    {
      "cell_type": "code",
      "source": [
        "from google.colab import drive\n",
        "drive.mount('/content/gdrive', force_remount=True)"
      ],
      "metadata": {
        "colab": {
          "base_uri": "https://localhost:8080/"
        },
        "id": "xFiqrSQoiWLs",
        "outputId": "09cdbea9-56bf-449f-ddfc-ff81cdfdebb5"
      },
      "execution_count": 26,
      "outputs": [
        {
          "output_type": "stream",
          "name": "stdout",
          "text": [
            "Mounted at /content/gdrive\n"
          ]
        }
      ]
    },
    {
      "cell_type": "markdown",
      "source": [
        "# Import"
      ],
      "metadata": {
        "id": "CfFue6RTSsKj"
      }
    },
    {
      "cell_type": "code",
      "source": [
        "import os\n",
        "import tensorflow as tf\n",
        "import matplotlib.pyplot as plt\n",
        "import numpy as np\n",
        "import pandas as pd\n",
        "from tensorflow import keras\n",
        "from sklearn.metrics import ConfusionMatrixDisplay"
      ],
      "metadata": {
        "id": "Y0z_qR8dSuJ1"
      },
      "execution_count": 35,
      "outputs": []
    },
    {
      "cell_type": "markdown",
      "source": [
        "# Data Preparation\n"
      ],
      "metadata": {
        "id": "wAnnPKSJEHSb"
      }
    },
    {
      "cell_type": "markdown",
      "source": [
        "The dataset is on Google Drive and the dataset directory has the structure:\n",
        "\n",
        "```\n",
        "dataset/\n",
        "  class_1/\n",
        "    image_1.jpg\n",
        "    image_2.jpg\n",
        "    ...\n",
        "  class_2/\n",
        "    image_3.jpg\n",
        "    image_4.jpg\n",
        "    ...\n",
        "  ...\n",
        "  ...\n",
        "  class_n/\n",
        "    ...\n",
        "```"
      ],
      "metadata": {
        "id": "w38DOxWrj-Ff"
      }
    },
    {
      "cell_type": "markdown",
      "source": [
        "To train and test the model, we need three subsets: train, test and validation. To split the dataset, we use the [split-folder](https://pypi.org/project/split-folders/) package."
      ],
      "metadata": {
        "id": "ej7BE97VFcww"
      }
    },
    {
      "cell_type": "code",
      "source": [
        "!pip install split-folders tqdm"
      ],
      "metadata": {
        "colab": {
          "base_uri": "https://localhost:8080/"
        },
        "id": "nPLHc-B6F20V",
        "outputId": "6fda5453-47ba-4411-92a7-635af1790130"
      },
      "execution_count": null,
      "outputs": [
        {
          "output_type": "stream",
          "name": "stdout",
          "text": [
            "Collecting split-folders\n",
            "  Downloading split_folders-0.4.3-py3-none-any.whl (7.4 kB)\n",
            "Requirement already satisfied: tqdm in /usr/local/lib/python3.7/dist-packages (4.62.3)\n",
            "Installing collected packages: split-folders\n",
            "Successfully installed split-folders-0.4.3\n"
          ]
        }
      ]
    },
    {
      "cell_type": "markdown",
      "source": [
        "We need to check if the hardware accelaration is enabled, since training a CNN on a CPU could be infeasible."
      ],
      "metadata": {
        "id": "Q6nkuByCSine"
      }
    },
    {
      "cell_type": "code",
      "source": [
        "#check hardware acceleration\n",
        "device_name = tf.test.gpu_device_name()\n",
        "if device_name != '/device:GPU:0':\n",
        "  raise SystemError('GPU device not found')\n",
        "print('Found GPU at: {}'.format(device_name))"
      ],
      "metadata": {
        "colab": {
          "base_uri": "https://localhost:8080/"
        },
        "id": "QAWrdrxOSn6Y",
        "outputId": "6cf860a2-d718-4a2f-ddd8-53689242f9a3"
      },
      "execution_count": 28,
      "outputs": [
        {
          "output_type": "stream",
          "name": "stdout",
          "text": [
            "Found GPU at: /device:GPU:0\n"
          ]
        }
      ]
    },
    {
      "cell_type": "markdown",
      "source": [
        "We define the costants with the directory of the dataset and the directory where the datasplits are created. In addition we define the image size and the batch size."
      ],
      "metadata": {
        "id": "csAKrzcrTymn"
      }
    },
    {
      "cell_type": "code",
      "source": [
        "BASE_DIR = \"gdrive/Shareddrives/MIRCV-PlantLeavesSearchEngine/\"\n",
        "DATA_DIR = '/content/Healthy & Unhealthy Plants Dataset Segmented'\n",
        "SETS_DIR = '/content/healthy-unhealthy-plants-sets'\n",
        "MODEL_DIR = '/content/model'\n",
        "\n",
        "IMAGE_SIZE = (224, 224)\n",
        "BATCH_SIZE = 64\n",
        "N_CLASSES = 14"
      ],
      "metadata": {
        "id": "GPllrg4iWfOt"
      },
      "execution_count": 29,
      "outputs": []
    },
    {
      "cell_type": "markdown",
      "source": [
        "We need to create data splits. The dataset will be divided 80% in training set, 10% in validation set and 10% in test set."
      ],
      "metadata": {
        "id": "Ix4P1D23FfSA"
      }
    },
    {
      "cell_type": "code",
      "source": [
        "import splitfolders\n",
        "# split data\n",
        "splitfolders.ratio(DATA_DIR, output=SETS_DIR, seed=123, ratio=(0.8, 0.1, 0.1), group_prefix=None)"
      ],
      "metadata": {
        "id": "XKLxtRCsEo-n",
        "colab": {
          "base_uri": "https://localhost:8080/"
        },
        "outputId": "a989ae3d-9a6c-46bc-916b-bef8474425fe"
      },
      "execution_count": null,
      "outputs": [
        {
          "output_type": "stream",
          "name": "stderr",
          "text": [
            "\n",
            "Copying files: 0 files [00:00, ? files/s]\u001b[A\n",
            "Copying files: 345 files [00:00, 3447.74 files/s]\u001b[A\n",
            "Copying files: 764 files [00:00, 3884.06 files/s]\u001b[A\n",
            "Copying files: 1306 files [00:00, 4584.73 files/s]\u001b[A\n",
            "Copying files: 1780 files [00:00, 4645.98 files/s]\u001b[A\n",
            "Copying files: 2245 files [00:00, 4093.58 files/s]\u001b[A\n",
            "Copying files: 2709 files [00:00, 4262.91 files/s]\u001b[A\n",
            "Copying files: 3144 files [00:00, 4027.60 files/s]\u001b[A\n",
            "Copying files: 3554 files [00:00, 3591.53 files/s]\u001b[A\n",
            "Copying files: 3958 files [00:01, 3711.44 files/s]\u001b[A\n",
            "Copying files: 4459 files [00:01, 3529.29 files/s]\u001b[A\n",
            "Copying files: 4943 files [00:01, 3865.16 files/s]\u001b[A\n",
            "Copying files: 5488 files [00:01, 4288.61 files/s]\u001b[A\n",
            "Copying files: 6059 files [00:01, 4682.13 files/s]\u001b[A\n",
            "Copying files: 6606 files [00:01, 4905.43 files/s]\u001b[A\n",
            "Copying files: 7108 files [00:01, 4888.37 files/s]\u001b[A\n",
            "Copying files: 7610 files [00:01, 4923.94 files/s]\u001b[A\n",
            "Copying files: 8109 files [00:01, 4560.85 files/s]\u001b[A\n",
            "Copying files: 8651 files [00:01, 4799.48 files/s]\u001b[A\n",
            "Copying files: 9168 files [00:02, 4903.98 files/s]\u001b[A\n",
            "Copying files: 9697 files [00:02, 5014.08 files/s]\u001b[A\n",
            "Copying files: 10204 files [00:02, 4330.16 files/s]\u001b[A\n",
            "Copying files: 10657 files [00:02, 2973.69 files/s]\u001b[A\n",
            "Copying files: 11023 files [00:02, 2782.05 files/s]\u001b[A\n",
            "Copying files: 11484 files [00:02, 3158.47 files/s]\u001b[A\n",
            "Copying files: 11949 files [00:02, 3495.62 files/s]\u001b[A\n",
            "Copying files: 12414 files [00:03, 3778.29 files/s]\u001b[A\n",
            "Copying files: 12860 files [00:03, 3952.18 files/s]\u001b[A\n",
            "Copying files: 13313 files [00:03, 4102.59 files/s]\u001b[A\n",
            "Copying files: 13746 files [00:03, 1755.31 files/s]\u001b[A\n",
            "Copying files: 14251 files [00:03, 2228.01 files/s]\u001b[A\n",
            "Copying files: 14794 files [00:04, 2772.11 files/s]\u001b[A\n",
            "Copying files: 15343 files [00:04, 3303.12 files/s]\u001b[A\n",
            "Copying files: 15895 files [00:04, 3786.42 files/s]\u001b[A\n",
            "Copying files: 16386 files [00:04, 4046.54 files/s]\u001b[A\n",
            "Copying files: 16940 files [00:04, 4424.46 files/s]\u001b[A\n",
            "Copying files: 17515 files [00:04, 4775.19 files/s]\u001b[A\n",
            "Copying files: 18099 files [00:04, 5066.21 files/s]\u001b[A\n",
            "Copying files: 18665 files [00:04, 5232.50 files/s]\u001b[A\n",
            "Copying files: 19226 files [00:04, 5339.58 files/s]\u001b[A\n",
            "Copying files: 19780 files [00:04, 5259.12 files/s]\u001b[A\n",
            "Copying files: 20341 files [00:05, 5359.30 files/s]\u001b[A\n",
            "Copying files: 20897 files [00:05, 5417.47 files/s]\u001b[A\n",
            "Copying files: 21449 files [00:05, 5445.66 files/s]\u001b[A\n",
            "Copying files: 21999 files [00:05, 4442.16 files/s]\u001b[A\n",
            "Copying files: 22477 files [00:05, 3935.90 files/s]\u001b[A\n",
            "Copying files: 22902 files [00:05, 3640.59 files/s]\u001b[A\n",
            "Copying files: 23289 files [00:05, 3538.41 files/s]\u001b[A\n",
            "Copying files: 23799 files [00:05, 3921.35 files/s]\u001b[A\n",
            "Copying files: 24308 files [00:06, 4222.28 files/s]\u001b[A\n",
            "Copying files: 24803 files [00:06, 4418.03 files/s]\u001b[A\n",
            "Copying files: 25260 files [00:06, 4238.14 files/s]\u001b[A\n",
            "Copying files: 25695 files [00:06, 3722.11 files/s]\u001b[A\n",
            "Copying files: 26085 files [00:06, 3472.03 files/s]\u001b[A\n",
            "Copying files: 26612 files [00:06, 3922.53 files/s]\u001b[A\n",
            "Copying files: 27176 files [00:06, 4374.10 files/s]\u001b[A\n",
            "Copying files: 27719 files [00:06, 4662.42 files/s]\u001b[A\n",
            "Copying files: 28282 files [00:06, 4934.26 files/s]\u001b[A\n",
            "Copying files: 28840 files [00:07, 5118.69 files/s]\u001b[A\n",
            "Copying files: 29362 files [00:07, 4822.86 files/s]\u001b[A\n",
            "Copying files: 29855 files [00:07, 4252.69 files/s]\u001b[A\n",
            "Copying files: 30298 files [00:07, 3512.00 files/s]\u001b[A\n",
            "Copying files: 30680 files [00:07, 3272.98 files/s]\u001b[A\n",
            "Copying files: 31102 files [00:07, 3489.05 files/s]\u001b[A\n",
            "Copying files: 31547 files [00:07, 3728.04 files/s]\u001b[A\n",
            "Copying files: 32001 files [00:07, 3940.02 files/s]\u001b[A\n",
            "Copying files: 32452 files [00:08, 4094.01 files/s]\u001b[A\n",
            "Copying files: 32875 files [00:08, 4112.64 files/s]\u001b[A\n",
            "Copying files: 33367 files [00:08, 4342.23 files/s]\u001b[A\n",
            "Copying files: 33904 files [00:08, 4638.42 files/s]\u001b[A\n",
            "Copying files: 34418 files [00:08, 4784.41 files/s]\u001b[A\n",
            "Copying files: 34902 files [00:08, 4777.41 files/s]\u001b[A\n",
            "Copying files: 35441 files [00:08, 4957.10 files/s]\u001b[A\n",
            "Copying files: 36002 files [00:08, 5148.91 files/s]\u001b[A\n",
            "Copying files: 36564 files [00:08, 5288.35 files/s]\u001b[A\n",
            "Copying files: 37137 files [00:09, 5420.00 files/s]\u001b[A\n",
            "Copying files: 37681 files [00:09, 3797.34 files/s]\u001b[A\n",
            "Copying files: 38216 files [00:09, 4154.32 files/s]\u001b[A\n",
            "Copying files: 38753 files [00:09, 4453.66 files/s]\u001b[A\n",
            "Copying files: 39291 files [00:09, 4694.39 files/s]\u001b[A\n",
            "Copying files: 39797 files [00:09, 4751.01 files/s]\u001b[A\n",
            "Copying files: 40352 files [00:09, 4972.21 files/s]\u001b[A\n",
            "Copying files: 40915 files [00:09, 5157.18 files/s]\u001b[A\n",
            "Copying files: 41468 files [00:09, 5262.99 files/s]\u001b[A\n",
            "Copying files: 42006 files [00:10, 4335.32 files/s]\u001b[A\n",
            "Copying files: 42474 files [00:10, 3495.23 files/s]\u001b[A\n",
            "Copying files: 42871 files [00:10, 3552.74 files/s]\u001b[A\n",
            "Copying files: 43351 files [00:10, 3847.46 files/s]\u001b[A\n",
            "Copying files: 43775 files [00:10, 3945.97 files/s]\u001b[A\n",
            "Copying files: 44242 files [00:10, 4137.97 files/s]\u001b[A\n",
            "Copying files: 44679 files [00:10, 3336.04 files/s]\u001b[A\n",
            "Copying files: 45133 files [00:11, 3621.23 files/s]\u001b[A\n",
            "Copying files: 45592 files [00:11, 3866.29 files/s]\u001b[A\n",
            "Copying files: 46025 files [00:11, 3988.38 files/s]\u001b[A\n",
            "Copying files: 46490 files [00:11, 4170.42 files/s]\u001b[A\n",
            "Copying files: 46924 files [00:11, 4205.26 files/s]\u001b[A\n",
            "Copying files: 47357 files [00:11, 4023.34 files/s]\u001b[A\n",
            "Copying files: 47769 files [00:11, 3890.05 files/s]\u001b[A\n",
            "Copying files: 48195 files [00:11, 3990.77 files/s]\u001b[A\n",
            "Copying files: 48663 files [00:11, 4184.71 files/s]\u001b[A\n",
            "Copying files: 49087 files [00:11, 3915.77 files/s]\u001b[A\n",
            "Copying files: 49486 files [00:12, 3503.78 files/s]\u001b[A\n",
            "Copying files: 49848 files [00:12, 3348.02 files/s]\u001b[A\n",
            "Copying files: 50200 files [00:12, 3236.64 files/s]\u001b[A\n",
            "Copying files: 50705 files [00:12, 3711.03 files/s]\u001b[A\n",
            "Copying files: 51230 files [00:12, 4129.22 files/s]\u001b[A\n",
            "Copying files: 51685 files [00:12, 4246.41 files/s]\u001b[A\n",
            "Copying files: 52180 files [00:12, 4446.53 files/s]\u001b[A\n",
            "Copying files: 52632 files [00:12, 3590.24 files/s]\u001b[A\n",
            "Copying files: 53188 files [00:13, 4081.18 files/s]\u001b[A\n",
            "Copying files: 53628 files [00:13, 3358.20 files/s]\u001b[A\n",
            "Copying files: 54005 files [00:13, 2769.46 files/s]\u001b[A\n",
            "Copying files: 54462 files [00:13, 3146.10 files/s]\u001b[A\n",
            "Copying files: 54897 files [00:13, 3423.90 files/s]\u001b[A\n",
            "Copying files: 55294 files [00:13, 3558.97 files/s]\u001b[A\n",
            "Copying files: 55772 files [00:13, 3877.69 files/s]\u001b[A\n",
            "Copying files: 56251 files [00:13, 4124.02 files/s]\u001b[A\n",
            "Copying files: 56720 files [00:14, 4281.33 files/s]\u001b[A\n",
            "Copying files: 57238 files [00:14, 4537.69 files/s]\u001b[A\n",
            "Copying files: 57707 files [00:14, 4580.51 files/s]\u001b[A\n",
            "Copying files: 58182 files [00:14, 4628.30 files/s]\u001b[A\n",
            "Copying files: 58652 files [00:14, 3904.85 files/s]\u001b[A\n",
            "Copying files: 59205 files [00:14, 4329.12 files/s]\u001b[A\n",
            "Copying files: 59684 files [00:14, 4453.54 files/s]\u001b[A\n",
            "Copying files: 60253 files [00:14, 4798.21 files/s]\u001b[A\n",
            "Copying files: 60815 files [00:14, 5032.62 files/s]\u001b[A\n",
            "Copying files: 61345 files [00:15, 5108.54 files/s]\u001b[A\n",
            "Copying files: 61892 files [00:15, 5212.86 files/s]\u001b[A\n",
            "Copying files: 62420 files [00:15, 5149.99 files/s]\u001b[A\n",
            "Copying files: 62940 files [00:16, 1711.80 files/s]\u001b[A\n",
            "Copying files: 63465 files [00:16, 2142.60 files/s]\u001b[A\n",
            "Copying files: 63958 files [00:16, 2555.52 files/s]\u001b[A\n",
            "Copying files: 64471 files [00:16, 3005.01 files/s]\u001b[A\n",
            "Copying files: 64990 files [00:16, 3440.50 files/s]\u001b[A\n",
            "Copying files: 65489 files [00:16, 3784.20 files/s]\u001b[A\n",
            "Copying files: 65976 files [00:16, 3630.86 files/s]\u001b[A\n",
            "Copying files: 66416 files [00:16, 3338.57 files/s]\u001b[A\n",
            "Copying files: 66807 files [00:16, 3333.08 files/s]\u001b[A\n",
            "Copying files: 67180 files [00:17, 3321.65 files/s]\u001b[A\n",
            "Copying files: 67540 files [00:17, 3122.07 files/s]\u001b[A\n",
            "Copying files: 67872 files [00:17, 3001.26 files/s]\u001b[A\n",
            "Copying files: 68321 files [00:17, 3372.57 files/s]\u001b[A\n",
            "Copying files: 68813 files [00:17, 3778.96 files/s]\u001b[A\n",
            "Copying files: 69209 files [00:17, 3442.66 files/s]\u001b[A\n",
            "Copying files: 69681 files [00:17, 3772.88 files/s]\u001b[A\n",
            "Copying files: 70076 files [00:17, 3802.84 files/s]\u001b[A\n",
            "Copying files: 70469 files [00:17, 3646.65 files/s]\u001b[A\n",
            "Copying files: 70843 files [00:18, 3321.67 files/s]\u001b[A\n",
            "Copying files: 71191 files [00:18, 3362.65 files/s]\u001b[A\n",
            "Copying files: 72034 files [00:18, 3918.68 files/s]\n"
          ]
        }
      ]
    },
    {
      "cell_type": "markdown",
      "source": [
        "Now we need to create the Dataset objects from the sets directory. We use the [image_dataset_from_directory](https://www.tensorflow.org/api_docs/python/tf/keras/utils/image_dataset_from_directory) function provided by Keras. An example of use of this library can be found on the official documentation provided by Keras ([here](https://keras.io/examples/vision/image_classification_from_scratch/))."
      ],
      "metadata": {
        "id": "ucmQuLtpU7gz"
      }
    },
    {
      "cell_type": "code",
      "source": [
        "\n",
        "train_ds = tf.keras.preprocessing.image_dataset_from_directory(\n",
        "    SETS_DIR + '/train',\n",
        "    labels='inferred', #the label of the dataset is obtained by the name of the directory\n",
        "    seed=123,\n",
        "    shuffle=True,\n",
        "    image_size=IMAGE_SIZE,\n",
        "    batch_size=BATCH_SIZE,\n",
        ")\n",
        "val_ds = tf.keras.preprocessing.image_dataset_from_directory(\n",
        "    SETS_DIR + '/val',\n",
        "    labels='inferred', #the label of the dataset is obtained by the name of the directory\n",
        "    seed=123,\n",
        "    shuffle=True,\n",
        "    image_size=IMAGE_SIZE,\n",
        "    batch_size=BATCH_SIZE,\n",
        ")\n",
        "test_ds = tf.keras.preprocessing.image_dataset_from_directory(\n",
        "    SETS_DIR + '/test',\n",
        "    labels='inferred', #the label of the dataset is obtained by the name of the directory\n",
        "    seed=123,\n",
        "    shuffle=False,\n",
        "    image_size=IMAGE_SIZE,\n",
        "    batch_size=BATCH_SIZE,\n",
        ")\n"
      ],
      "metadata": {
        "id": "xExN_Ss3WRLo",
        "colab": {
          "base_uri": "https://localhost:8080/"
        },
        "outputId": "cbe2028a-acb4-4913-ffe6-e3c816aed7f8"
      },
      "execution_count": 40,
      "outputs": [
        {
          "output_type": "stream",
          "name": "stdout",
          "text": [
            "Found 57623 files belonging to 14 classes.\n",
            "Found 7195 files belonging to 14 classes.\n",
            "Found 7216 files belonging to 14 classes.\n"
          ]
        }
      ]
    },
    {
      "cell_type": "markdown",
      "source": [
        "The images needs to be preprocessed before going in input to the CNN DenseNet. We use the function [tf.keras.applications.densenet.preprocess_input](https://www.tensorflow.org/api_docs/python/tf/keras/applications/densenet/preprocess_input) to preprocess the image."
      ],
      "metadata": {
        "id": "lRYyCnb7iJ4P"
      }
    },
    {
      "cell_type": "code",
      "source": [
        "def preprocess(images, labels):\n",
        "  images = tf.keras.applications.densenet.preprocess_input(images)\n",
        "  return images, labels\n",
        "  \n",
        "#preprocessing of the images in all the set\n",
        "train_ds = train_ds.map(preprocess)\n",
        "val_ds = val_ds.map(preprocess)\n",
        "test_ds = test_ds.map(preprocess)"
      ],
      "metadata": {
        "id": "dVGLR6_FiGRJ"
      },
      "execution_count": 41,
      "outputs": []
    },
    {
      "cell_type": "markdown",
      "source": [
        "# Training"
      ],
      "metadata": {
        "id": "juFJRQj9cFc2"
      }
    },
    {
      "cell_type": "markdown",
      "source": [
        "The CNN used has base network is DenseNet. Since we want to fine-tune the network. We remove the fully-connected layer on top and later we will add an output layer with 14 neurons (1 for each class we want to predict)."
      ],
      "metadata": {
        "id": "YEgHoH2ycH1i"
      }
    },
    {
      "cell_type": "code",
      "source": [
        "pretrained_model = tf.keras.applications.DenseNet121(\n",
        "    input_shape = (224, 224, 3),\n",
        "    weights=\"imagenet\",\n",
        "    include_top=False,  # do not include the pretrained layers implementing the imagenet classifier\n",
        ")\n",
        "\n",
        "# freezes weights of all levels of the pre-trained network\n",
        "pretrained_model.trainable = False \n",
        "\n",
        "#pretrained_model.summary()"
      ],
      "metadata": {
        "id": "Rl5ZRGzodFTg"
      },
      "execution_count": null,
      "outputs": []
    },
    {
      "cell_type": "markdown",
      "source": [
        "On top of the base network we apply global average pooling and we add an hidden classifier with 256 neurons. The last layer of the network is the output classification layer, with 1 neuron for each class and with softmax as activation function."
      ],
      "metadata": {
        "id": "3dijXjtDqO_U"
      }
    },
    {
      "cell_type": "code",
      "source": [
        "from tensorflow.keras import layers as L\n",
        "\n",
        "x = pretrained_model.output\n",
        "\n",
        "# add a global average pooling\n",
        "x = L.GlobalAveragePooling2D(name='gap')(x)\n",
        "x = L.Flatten(name='flatten')(x)\n",
        "\n",
        "# add a fully-connected layer (Dense) of 256 neurons with name='classifier_hidden'\n",
        "x = L.Dense(256,activation='relu', name='classifier_hidden')(x)\n",
        "\n",
        "# add output classification layer with n_classes outputs and softmax activation\n",
        "x = L.Dense(N_CLASSES, activation='softmax')(x)\n",
        "new_output = x\n",
        "\n",
        "model = tf.keras.models.Model(inputs=pretrained_model.input, outputs=new_output, name='healthy_and_unhealty_plants_classifier')\n",
        "\n",
        "#model.summary()"
      ],
      "metadata": {
        "id": "hU1Anl6qqQSl"
      },
      "execution_count": null,
      "outputs": []
    },
    {
      "cell_type": "markdown",
      "source": [
        "To prevent huge gradients coming from the newly initialized layers from destroying the weights in the pretrained layers  we will initially freeze the layers of the base network and train only new layers. As optimizers we use Adam. We implemented early stoppings in order to terminate the process if the loss on the validation set doesn't improve for two consecutive epochs."
      ],
      "metadata": {
        "id": "jzPtHCanx2py"
      }
    },
    {
      "cell_type": "code",
      "source": [
        "learning_rate=0.005\n",
        "epochs=20\n",
        "\n",
        "optimizer = tf.keras.optimizers.Adam(learning_rate=learning_rate)\n",
        "\n",
        "model.compile(optimizer,\n",
        "              loss=tf.keras.losses.sparse_categorical_crossentropy,\n",
        "              metrics=[\"accuracy\"])\n",
        "callbacks = [\n",
        "  # early stopping\n",
        "      tf.keras.callbacks.EarlyStopping(\n",
        "          monitor='val_loss', \n",
        "          patience=2,\n",
        "          restore_best_weights=True),\n",
        "\n",
        "  # checkpoint best model \n",
        "  tf.keras.callbacks.ModelCheckpoint(\n",
        "    filepath=MODEL_DIR + \"/healthy_and_unhealty_plants_classifier\",\n",
        "    save_weights_only=True,\n",
        "    monitor='accuracy',\n",
        "    mode='max',\n",
        "    save_best_only=True\n",
        "  ),\n",
        "]\n",
        "\n",
        "train_ds_shuffle = train_ds.shuffle(123)  # shuffles data each epoch\n",
        "\n",
        "# train the model\n",
        "history = model.fit(\n",
        "  train_ds_shuffle,\n",
        "  validation_data=val_ds,\n",
        "  epochs = epochs,  \n",
        "  callbacks=callbacks,\n",
        "  batch_size=BATCH_SIZE,\n",
        "  verbose=1\n",
        ")\n"
      ],
      "metadata": {
        "colab": {
          "base_uri": "https://localhost:8080/"
        },
        "id": "B63WEshrz6Av",
        "outputId": "6b9550f8-0f8b-41bf-d06c-03b0a86b047f"
      },
      "execution_count": null,
      "outputs": [
        {
          "output_type": "stream",
          "name": "stdout",
          "text": [
            "Epoch 1/20\n",
            "901/901 [==============================] - 480s 480ms/step - loss: 0.1345 - accuracy: 0.9609 - val_loss: 0.0915 - val_accuracy: 0.9662\n",
            "Epoch 2/20\n",
            "901/901 [==============================] - 404s 430ms/step - loss: 0.0465 - accuracy: 0.9851 - val_loss: 0.0317 - val_accuracy: 0.9883\n",
            "Epoch 3/20\n",
            "901/901 [==============================] - 402s 428ms/step - loss: 0.0403 - accuracy: 0.9869 - val_loss: 0.1378 - val_accuracy: 0.9654\n",
            "Epoch 4/20\n",
            "901/901 [==============================] - 402s 429ms/step - loss: 0.0380 - accuracy: 0.9884 - val_loss: 0.0606 - val_accuracy: 0.9815\n"
          ]
        }
      ]
    },
    {
      "cell_type": "code",
      "source": [
        "model.summary()"
      ],
      "metadata": {
        "id": "u-0PwR3umgs7"
      },
      "execution_count": null,
      "outputs": []
    },
    {
      "cell_type": "code",
      "source": [
        "model.save('/content/gdrive/Shareddrives/MIRCV-PlantLeavesSearchEngine/model_unfine_tuned')"
      ],
      "metadata": {
        "colab": {
          "base_uri": "https://localhost:8080/"
        },
        "id": "kUz74bzsH7nb",
        "outputId": "cac425eb-3530-4a87-9ff8-6ec8466888f9"
      },
      "execution_count": null,
      "outputs": [
        {
          "output_type": "stream",
          "name": "stdout",
          "text": [
            "INFO:tensorflow:Assets written to: /content/gdrive/Shareddrives/MIRCV-PlantLeavesSearchEngine/model_unfine_tuned/assets\n"
          ]
        }
      ]
    },
    {
      "cell_type": "markdown",
      "source": [
        "Now we need to unfreeze layers of the base network and reperforms training in order to fine-tune the network. Since this operation is very expensive in terms of resources, we decided to unfreeze only the last two blocks of the network. As we cans see from the output of the next cell, the number of traainable parameters of the network increased from 265,998 to 589,582 "
      ],
      "metadata": {
        "id": "JAr0ec1SqZ3U"
      }
    },
    {
      "cell_type": "code",
      "source": [
        "trainable = False\n",
        "for layer in model.layers:\n",
        "    if layer.name == 'conv5_block15_0_bn':\n",
        "        trainable = True\n",
        "    is_bn = layer.name.endswith('bn')  # keep BatchNorm freezed, good practice for finetuned models\n",
        "    if not is_bn:\n",
        "      layer.trainable = trainable\n",
        "\n",
        "model.summary()"
      ],
      "metadata": {
        "id": "2i0rDIIuqZFu"
      },
      "execution_count": null,
      "outputs": []
    },
    {
      "cell_type": "markdown",
      "source": [
        "Now we perform fine-tuning."
      ],
      "metadata": {
        "id": "IZYnguDSuIg3"
      }
    },
    {
      "cell_type": "code",
      "source": [
        "learning_rate = 0.005\n",
        "optimizer = tf.keras.optimizers.Adam(learning_rate=learning_rate)\n",
        "\n",
        "model.compile(optimizer,\n",
        "              loss=tf.keras.losses.sparse_categorical_crossentropy,\n",
        "              metrics=[\"accuracy\"])\n",
        "\n",
        "# train the model\n",
        "history = model.fit(\n",
        "  train_ds_shuffle,\n",
        "  validation_data=val_ds,\n",
        "  epochs = epochs,  \n",
        "  callbacks=callbacks,\n",
        "  batch_size=BATCH_SIZE,\n",
        "  verbose=1\n",
        ")"
      ],
      "metadata": {
        "colab": {
          "base_uri": "https://localhost:8080/"
        },
        "id": "FMzMa7nBuND7",
        "outputId": "8640c55b-a2c4-451f-f513-4120477713ee"
      },
      "execution_count": null,
      "outputs": [
        {
          "output_type": "stream",
          "name": "stdout",
          "text": [
            "Epoch 1/20\n",
            "901/901 [==============================] - 420s 438ms/step - loss: 0.2922 - accuracy: 0.9822 - val_loss: 0.0533 - val_accuracy: 0.9829\n",
            "Epoch 2/20\n",
            "901/901 [==============================] - 410s 437ms/step - loss: 0.0229 - accuracy: 0.9922 - val_loss: 0.0283 - val_accuracy: 0.9907\n",
            "Epoch 3/20\n",
            "901/901 [==============================] - 410s 437ms/step - loss: 0.0220 - accuracy: 0.9930 - val_loss: 0.0371 - val_accuracy: 0.9875\n",
            "Epoch 4/20\n",
            "901/901 [==============================] - 410s 437ms/step - loss: 0.0286 - accuracy: 0.9904 - val_loss: 0.0357 - val_accuracy: 0.9890\n"
          ]
        }
      ]
    },
    {
      "cell_type": "markdown",
      "source": [
        "We save on Google Drive our fine-tuned model"
      ],
      "metadata": {
        "id": "dqjAt8M6GrcC"
      }
    },
    {
      "cell_type": "code",
      "source": [
        "model.save('/content/gdrive/Shareddrives/MIRCV-PlantLeavesSearchEngine/model_fine_tuned')"
      ],
      "metadata": {
        "colab": {
          "base_uri": "https://localhost:8080/"
        },
        "id": "iNJ46kK0vIw4",
        "outputId": "fc2c9f4c-d676-4391-927d-2e2f690ed1d5"
      },
      "execution_count": null,
      "outputs": [
        {
          "output_type": "stream",
          "name": "stdout",
          "text": [
            "INFO:tensorflow:Assets written to: /content/gdrive/Shareddrives/MIRCV-PlantLeavesSearchEngine/model_fine_tuned/assets\n"
          ]
        }
      ]
    },
    {
      "cell_type": "markdown",
      "source": [
        "The next cell is useful if you want to load the model from the drive without reexecuting the fine tune."
      ],
      "metadata": {
        "id": "SKzokqq9GiBi"
      }
    },
    {
      "cell_type": "code",
      "source": [
        "model= keras.models.load_model('/content/gdrive/Shareddrives/MIRCV-PlantLeavesSearchEngine/model_fine_tuned')"
      ],
      "metadata": {
        "id": "ntRa26iaDtm2"
      },
      "execution_count": null,
      "outputs": []
    },
    {
      "cell_type": "code",
      "source": [
        "model.summary()"
      ],
      "metadata": {
        "id": "NkSkDKqUUSjx"
      },
      "execution_count": null,
      "outputs": []
    },
    {
      "cell_type": "markdown",
      "source": [
        "# Evaluation\n"
      ],
      "metadata": {
        "id": "zeOW_9OozZ8P"
      }
    },
    {
      "cell_type": "markdown",
      "source": [
        "The accuracy and the loss of our fine-tuned model on the test set are the following."
      ],
      "metadata": {
        "id": "bMzV7OFz05v4"
      }
    },
    {
      "cell_type": "code",
      "source": [
        "test_loss, test_accuracy = model.evaluate(test_ds)\n",
        "print(\"Loss on test set: \" +str(test_loss))\n",
        "print(\"Accuracy on test set: \" +str(test_accuracy))"
      ],
      "metadata": {
        "colab": {
          "base_uri": "https://localhost:8080/"
        },
        "id": "xTR0ST7FzEHN",
        "outputId": "94055fa5-fdfc-4958-e4c7-2653ea60efb7"
      },
      "execution_count": null,
      "outputs": [
        {
          "output_type": "stream",
          "name": "stdout",
          "text": [
            "113/113 [==============================] - 59s 402ms/step - loss: 0.0243 - accuracy: 0.9917\n",
            "Loss on test set: 0.02427382580935955\n",
            "Accuracy on test set: 0.991685152053833\n"
          ]
        }
      ]
    },
    {
      "cell_type": "markdown",
      "source": [
        "Now we're going to plot the Confusion Matrix."
      ],
      "metadata": {
        "id": "jwF1Qv_41abR"
      }
    },
    {
      "cell_type": "code",
      "source": [
        "np.random.seed(13)\n",
        "# or use predict() and use sklearn to evaluate the model\n",
        "from sklearn.metrics import accuracy_score\n",
        "test_labels = np.concatenate([label for image, label in test_ds], axis=0) # retrieve the labels of the test set\n",
        "test_predictions = model.predict(test_ds, verbose=1)  # probabilities for all classes\n",
        "test_predictions = np.argmax(test_predictions, axis=-1)  # index of the classes with largest probability\n",
        "print(accuracy_score(test_labels, test_predictions))\n",
        "print(test_labels)\n",
        "print(test_predictions)"
      ],
      "metadata": {
        "colab": {
          "base_uri": "https://localhost:8080/"
        },
        "id": "tCclGqyh1Zqp",
        "outputId": "edfea720-0e62-4952-aa6f-6d50dacb7dda"
      },
      "execution_count": 42,
      "outputs": [
        {
          "output_type": "stream",
          "name": "stdout",
          "text": [
            "113/113 [==============================] - 39s 350ms/step\n",
            "0.9916851441241685\n",
            "[ 0  0  0 ... 13 13 13]\n",
            "[ 0  0  0 ... 13 13 13]\n"
          ]
        }
      ]
    },
    {
      "cell_type": "markdown",
      "source": [
        "Function to transform the label in the string equivalent"
      ],
      "metadata": {
        "id": "bYACNDMAkfJv"
      }
    },
    {
      "cell_type": "code",
      "source": [
        "label_string = ['Apple', 'Blueberry', 'Cherry', 'Corn', 'Grape', 'Orange', 'Peach', 'Pepper', 'Potato', 'Raspberry', 'Soybean', 'Squash', 'Strawberry', 'Tomato']\n",
        "def transform_label(labels_int):\n",
        "  for label_string in labels_string:\n"
      ],
      "metadata": {
        "id": "rslf6Vr6kfnS"
      },
      "execution_count": null,
      "outputs": []
    },
    {
      "cell_type": "code",
      "source": [
        "from sklearn.metrics import ConfusionMatrixDisplay\n",
        "# plot confusion matrix\n",
        "fig, ax = plt.subplots(figsize=(10, 10))\n",
        "ConfusionMatrixDisplay.from_predictions(test_labels, test_predictions, xticks_rotation='vertical', ax=ax)"
      ],
      "metadata": {
        "colab": {
          "base_uri": "https://localhost:8080/",
          "height": 598
        },
        "id": "Zoow-PoPjlPU",
        "outputId": "6e2cc12b-6c10-4928-9d43-1f84f3732d03"
      },
      "execution_count": 43,
      "outputs": [
        {
          "output_type": "execute_result",
          "data": {
            "text/plain": [
              "<sklearn.metrics._plot.confusion_matrix.ConfusionMatrixDisplay at 0x7f48a583f790>"
            ]
          },
          "metadata": {},
          "execution_count": 43
        },
        {
          "output_type": "display_data",
          "data": {
            "image/png": "[encoded data removed]",
            "text/plain": [
              "<Figure size 720x720 with 2 Axes>"
            ]
          },
          "metadata": {
            "needs_background": "light"
          }
        }
      ]
    },
    {
      "cell_type": "code",
      "source": [
        "print(test_labels.shape)\n",
        "print(test_predictions.shape)"
      ],
      "metadata": {
        "colab": {
          "base_uri": "https://localhost:8080/"
        },
        "id": "C0MuMrudeskN",
        "outputId": "9f604c27-cefa-47d9-a04e-b8aef33e8a70"
      },
      "execution_count": null,
      "outputs": [
        {
          "output_type": "stream",
          "name": "stdout",
          "text": [
            "(7216,)\n",
            "(7216,)\n"
          ]
        }
      ]
    },
    {
      "cell_type": "code",
      "source": [
        "print(accuracy_score(test_labels, test_predictions) )"
      ],
      "metadata": {
        "colab": {
          "base_uri": "https://localhost:8080/"
        },
        "id": "eFCf_zSF4cfd",
        "outputId": "016cd153-fd51-4b57-b4f2-117b406c3ca6"
      },
      "execution_count": null,
      "outputs": [
        {
          "output_type": "stream",
          "name": "stdout",
          "text": [
            "0.1574279379157428\n"
          ]
        }
      ]
    },
    {
      "cell_type": "markdown",
      "source": [
        "Grafici"
      ],
      "metadata": {
        "id": "zHdSPAAg0aAQ"
      }
    },
    {
      "cell_type": "code",
      "source": [
        "# data from fine-tuning training\n",
        "ft_acc = history.history['accuracy']\n",
        "ft_val_acc = history.history['val_accuracy']\n",
        "ft_loss = history.history['loss']\n",
        "ft_val_loss = history.history['val_loss']\n",
        "\n",
        "# create figure\n",
        "fig, (acc_g,loss_g) = plt.subplots(1,2, figsize=(15,6))\n",
        "\n",
        "# range for x axis\n",
        "epochs_1 = range(len(ft_acc))\n",
        "\n",
        "# plot accuracy curves\n",
        "acc_g.plot(epochs_1, ft_acc, color='tab:olive', marker='^', linestyle='-', label='Fine-tuning training', linewidth=1)\n",
        "acc_g.plot(epochs_1, ft_val_acc, color='tab:cyan', marker='^', linestyle='-', label='Fine-tuning validation', linewidth=1)\n",
        "\n",
        "# plot loss curves\n",
        "loss_g.plot(epochs_1, ft_loss, color='tab:olive', marker='^', linestyle='-', label='Fine-tuning training ', linewidth=1)\n",
        "loss_g.plot(epochs_1, ft_val_loss, color='tab:cyan', marker='^', linestyle='-', label='Fine-tuning validation', linewidth=1)\n",
        "\n",
        "# accuracy graph style options\n",
        "acc_g.grid(axis='y', linestyle='--', linewidth=0.5)\n",
        "acc_g.set_xlabel('Epochs')\n",
        "acc_g.set_ylabel('Accuracy')\n",
        "acc_g.set_title('Accuracy', fontdict={'fontsize':18}, pad=20)\n",
        "acc_g.legend(loc='lower right')\n",
        "\n",
        "# loss graph style options\n",
        "loss_g.grid(axis='y', linestyle='--', linewidth=0.5)\n",
        "loss_g.set_xlabel('Epochs')\n",
        "loss_g.set_ylabel('Loss')\n",
        "loss_g.set_title('Loss', fontdict={'fontsize':18}, pad=20)\n",
        "loss_g.legend(loc='upper right')\n",
        "\n",
        "# layout adjustment\n",
        "plt.tight_layout()\n",
        "\n",
        "# save graph\n",
        "fig.savefig('train_plots.png')"
      ],
      "metadata": {
        "colab": {
          "base_uri": "https://localhost:8080/",
          "height": 441
        },
        "id": "BEQqYhMD0bvs",
        "outputId": "70205ac4-6131-4a9d-fc55-08e73d2842ff"
      },
      "execution_count": null,
      "outputs": [
        {
          "output_type": "display_data",
          "data": {
            "image/png": "[encoded data removed]",
            "text/plain": [
              "<Figure size 1080x432 with 2 Axes>"
            ]
          },
          "metadata": {
            "needs_background": "light"
          }
        }
      ]
    },
    {
      "cell_type": "markdown",
      "source": [
        "# Dubbi da discutere insieme appassionatamente\n",
        "\n",
        "\n",
        "*   Nel notebook viene fatta la load weights dal checkpoint\n",
        "* Perchè Porcod non va questa confusion matrix del Dio ca\n",
        "* \n",
        "\n"
      ],
      "metadata": {
        "id": "q2hIUDX7pi5V"
      }
    }
  ]
}